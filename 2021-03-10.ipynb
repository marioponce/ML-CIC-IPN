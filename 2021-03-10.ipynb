{
 "cells": [
  {
   "cell_type": "markdown",
   "metadata": {},
   "source": [
    "## Machine Learning IPN - Trabajo 10 marzo 2021\n",
    "Mario Alberto Ponce Pacheco"
   ]
  },
  {
   "cell_type": "markdown",
   "metadata": {},
   "source": [
    "## 1. Regresión Lineal"
   ]
  },
  {
   "cell_type": "code",
   "execution_count": 13,
   "metadata": {},
   "outputs": [
    {
     "data": {
      "text/plain": [
       "<matplotlib.collections.PathCollection at 0x22a90967610>"
      ]
     },
     "execution_count": 13,
     "metadata": {},
     "output_type": "execute_result"
    },
    {
     "data": {
      "image/png": "[encoded data removed]",
      "text/plain": [
       "<Figure size 432x288 with 1 Axes>"
      ]
     },
     "metadata": {
      "needs_background": "light"
     },
     "output_type": "display_data"
    }
   ],
   "source": [
    "import matplotlib.pyplot as plt\n",
    "import numpy as np\n",
    "\n",
    "A = 0 # inicio\n",
    "B = 10 # fin\n",
    "N = 21 # mediciones\n",
    "m = 3 # pendiente\n",
    "b = 6 # intersección\n",
    "k = 1.5 # aleatoriedad\n",
    "\n",
    "x = np.linspace(A, B, N)\n",
    "y = m * (x + np.random.uniform(-1, 1, N) * k) + b\n",
    "\n",
    "plt.scatter(x, y)"
   ]
  },
  {
   "cell_type": "markdown",
   "metadata": {},
   "source": [
    "* ¿Qué representan las variables A y B?\n",
    "\n",
    "    >*A: el valor mínimo de la muestra. B: el valor máximo de la muestra. Se podría considerar que A y B definen el rango de la función.*\n",
    "\n",
    "\n",
    "* ¿Qué representa la variable N?\n",
    "\n",
    "    >*El número de observaciones de la muestra*\n",
    "\n",
    "\n",
    "* ¿Cuál es la ecuación general de una recta y = ??x + ???\n",
    "\n",
    "   > $$y=b+mx $$\n",
    "\n",
    "\n",
    "* ¿Qué representan las variables m y b?\n",
    "\n",
    "    >*$b$: la ordenada al origen. Es el valor que tienen la funcion cuando $x=0$*\n",
    "    \n",
    "    >*$m$: la pendiente. Representa la razón de incremento/decremento de $y$ respecto a $x$*\n",
    "\n",
    "\n",
    "* ¿Para qué se utiliza la variable k y que implica en la ecuación?\n",
    "\n",
    "    >*Se utiliza para darle aletoridad a la muestra. Representa el error en el modelo:*\n",
    "    $$y=b+mx+k$$"
   ]
  },
  {
   "cell_type": "markdown",
   "metadata": {},
   "source": [
    "En el siguiente código, se hace un reshape de (N, 1) al arreglo x de N puntos. Esto produce una matriz de tamaño N x 1, en lugar del vector de tamaño N que nombraremos como X_train. Esto se hace así porque se pretende hacer una regresión lineal tomando cada vector x y producir un valor y. Es decir, la regresión lineal, toma un vector en x y estima un valor en y, de esta manera ajusta una recta de la forma y = m * x + b. Pero nosotros sólo disponemos de un valor para x, por eso lo expresamos con un vector de tamaño 1."
   ]
  },
  {
   "cell_type": "code",
   "execution_count": 17,
   "metadata": {},
   "outputs": [],
   "source": [
    "X_train = x.reshape((N, 1))\n",
    "X_train;"
   ]
  },
  {
   "cell_type": "markdown",
   "metadata": {},
   "source": [
    "1. Si tuvieramos dos valores en x que ajustaran un valor en y.\n",
    "¿Cuál debería ser la figura de x? \n",
    ">*Opción A: (N, 2)*\n",
    "\n",
    "2. Si tuvieramos una función f(x1, x2, x3) que se comportara linealmente.\n",
    "¿Cuál debería ser la figura de x? \n",
    ">*Opción A: (N, 3)*"
   ]
  },
  {
   "cell_type": "markdown",
   "metadata": {},
   "source": [
    "El siguiente código importa la función LinearRegression de la librería sklearn.linear_model. Luego se crea un regresor, que es ajustado mediante X_train. Recordemos que X_train es la matriz de Nx1 calculada arriba, dónde cada vector de entrenamiento x, producirá un valor en y. Por lo que entrenamos ([x1], y1), ([x2], y2), ..., ([xn], yn). Al final de ajustar cada punto, el regresor llamadao regressor tendrá los valores de coef_ e intercept_ que indicarán cuál es la pendiente ajustada y el punto de intercepción."
   ]
  },
  {
   "cell_type": "code",
   "execution_count": 20,
   "metadata": {},
   "outputs": [
    {
     "data": {
      "text/plain": [
       "LinearRegression()"
      ]
     },
     "execution_count": 20,
     "metadata": {},
     "output_type": "execute_result"
    }
   ],
   "source": [
    "from sklearn.linear_model import LinearRegression\n",
    "\n",
    "regressor = LinearRegression()\n",
    "\n",
    "regressor.fit(X_train, y)"
   ]
  },
  {
   "cell_type": "markdown",
   "metadata": {},
   "source": [
    "1. ¿Cuál es la dimensión de X_train?\n",
    ">21x1\n",
    "2. ¿Cuál es la figura de X_train?\n",
    ">(21, 1)\n",
    "3. ¿Cuál es la dimensión de y?\n",
    ">21\n",
    "4. ¿Cuál es la figura de y?\n",
    ">(21,)"
   ]
  },
  {
   "cell_type": "markdown",
   "metadata": {},
   "source": [
    "En el siguiente código se extrae el primer coeficiente ajustado por el regresor lineal. Observa que coef_ sólo contiene un coeficiente solamente."
   ]
  },
  {
   "cell_type": "code",
   "execution_count": 28,
   "metadata": {},
   "outputs": [
    {
     "data": {
      "text/plain": [
       "3.209499737653132"
      ]
     },
     "execution_count": 28,
     "metadata": {},
     "output_type": "execute_result"
    }
   ],
   "source": [
    "m_fit = regressor.coef_[0]\n",
    "\n",
    "m_fit"
   ]
  },
  {
   "cell_type": "markdown",
   "metadata": {},
   "source": [
    "1. Si tuvieramos dos variables x1, x2 que ajusten a y, ¿Cuántos coeficientes serían calculados?\n",
    "> 2\n",
    "2. ¿Qué representa m_fit?\n",
    "> Representa la pendiente $m$. $m_i$ : La razón de incremento/decremento de $y$ respecto a $x_i$\n",
    "\n"
   ]
  },
  {
   "cell_type": "markdown",
   "metadata": {},
   "source": [
    "En el siguiente código se extrae el valor ajustado intercept_, que representa el punto de intercepción b o el bias de la recta y = m * x + b."
   ]
  },
  {
   "cell_type": "code",
   "execution_count": 31,
   "metadata": {},
   "outputs": [
    {
     "data": {
      "text/plain": [
       "4.553943055300746"
      ]
     },
     "execution_count": 31,
     "metadata": {},
     "output_type": "execute_result"
    }
   ],
   "source": [
    "b_fit = regressor.intercept_\n",
    "\n",
    "b_fit"
   ]
  },
  {
   "cell_type": "markdown",
   "metadata": {},
   "source": [
    "1. Si tuvieramos dos variables x1, x2 que ajusten a y, ¿Cuántas intercepciones serían calculados?\n",
    ">1\n",
    "2. ¿Qué representa b_fit?\n",
    ">Representa la ordenada al origen $b$"
   ]
  },
  {
   "cell_type": "markdown",
   "metadata": {},
   "source": [
    "En el siguiente código se construye el arreglo y_fit, el cual se genera a partir de cada punto x multiplicado por m_fit y sumado con b_fit, para producir la recta con la pendiente y el punto de intersección ajustados. Luego se grafican de nuevo los puntos y la recta ajustada."
   ]
  },
  {
   "cell_type": "code",
   "execution_count": 32,
   "metadata": {},
   "outputs": [
    {
     "data": {
      "text/plain": [
       "[<matplotlib.lines.Line2D at 0x22a9436dd30>]"
      ]
     },
     "execution_count": 32,
     "metadata": {},
     "output_type": "execute_result"
    },
    {
     "data": {
      "image/png": "[encoded data removed]",
      "text/plain": [
       "<Figure size 432x288 with 1 Axes>"
      ]
     },
     "metadata": {
      "needs_background": "light"
     },
     "output_type": "display_data"
    }
   ],
   "source": [
    "y_fit = m_fit * x + b_fit\n",
    "\n",
    "plt.scatter(x, y)\n",
    "plt.plot(x, y_fit, \"red\")"
   ]
  },
  {
   "cell_type": "markdown",
   "metadata": {},
   "source": [
    "1. Si tuvieramos dos variables x1 y x2 que ajustaran el valor y, ¿Qué tipo de gráfica sería conveniente?\n",
    ">Sería conveniente mostrar una grafica 3D. En ese caso se tendria un plano en lugar de una recta.\n",
    "2. ¿Pará que sirve calcular la recta de predicción?\n",
    ">Para predecir el valor de $y$ para una $x$ dada."
   ]
  },
  {
   "cell_type": "code",
   "execution_count": null,
   "metadata": {},
   "outputs": [],
   "source": []
  }
 ],
 "metadata": {
  "kernelspec": {
   "display_name": "Python 3",
   "language": "python",
   "name": "python3"
  },
  "language_info": {
   "codemirror_mode": {
    "name": "ipython",
    "version": 3
   },
   "file_extension": ".py",
   "mimetype": "text/x-python",
   "name": "python",
   "nbconvert_exporter": "python",
   "pygments_lexer": "ipython3",
   "version": "3.8.3"
  }
 },
 "nbformat": 4,
 "nbformat_minor": 4
}
