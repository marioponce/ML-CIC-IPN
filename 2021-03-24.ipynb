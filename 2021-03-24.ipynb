{
 "cells": [
  {
   "cell_type": "markdown",
   "metadata": {},
   "source": [
    "## Machine Learning IPN - Trabajo 24 marzo 2021\n",
    "Mario Alberto Ponce Pacheco"
   ]
  },
  {
   "cell_type": "markdown",
   "metadata": {},
   "source": [
    "## Ejercicios - Redes neuronales\n",
    "1. Continua el estudio de clase para el reconocimiento de dígitos de notebooks/12. Multilayer Neural Network Classifier.ipynb."
   ]
  },
  {
   "cell_type": "code",
   "execution_count": 5,
   "metadata": {},
   "outputs": [],
   "source": [
    "import os\n",
    "import gzip\n",
    "import numpy as np\n",
    "import matplotlib.pyplot as plt\n",
    "from sklearn.neural_network import MLPClassifier\n",
    "\n",
    "train_labels_path = \"datasets/mnist/train-labels-idx1-ubyte.gz\"\n",
    "\n",
    "with gzip.open(train_labels_path, \"rb\") as data:\n",
    "    train_labels = np.frombuffer(data.read(), dtype=np.uint8, offset=8)\n",
    "\n",
    "train_images_path = \"datasets/mnist/train-images-idx3-ubyte.gz\"\n",
    "\n",
    "with gzip.open(train_images_path, \"rb\") as data:\n",
    "    train_images = np.frombuffer(data.read(), dtype=np.uint8, offset=16).reshape(len(train_labels), 784) # 28x28 = 784\n",
    "\n",
    "test_labels_path = \"datasets/mnist/t10k-labels-idx1-ubyte.gz\"\n",
    "\n",
    "with gzip.open(test_labels_path, \"rb\") as data:\n",
    "    test_labels = np.frombuffer(data.read(), dtype=np.uint8, offset=8)\n",
    "\n",
    "test_images_path = \"datasets/mnist/t10k-images-idx3-ubyte.gz\"\n",
    "\n",
    "with gzip.open(test_images_path, \"rb\") as data:\n",
    "    test_images = np.frombuffer(data.read(), dtype=np.uint8, offset=16).reshape(len(test_labels), 784)\n",
    "\n",
    "def enconder(digit):\n",
    "    if digit == 0:\n",
    "        return [1, 0, 0, 0, 0, 0, 0, 0, 0, 0]\n",
    "    elif digit == 1:\n",
    "        return [0, 1, 0, 0, 0, 0, 0, 0, 0, 0]\n",
    "    elif digit == 2:\n",
    "        return [0, 0, 1, 0, 0, 0, 0, 0, 0, 0]\n",
    "    elif digit == 3:\n",
    "        return [0, 0, 0, 1, 0, 0, 0, 0, 0, 0]\n",
    "    elif digit == 4:\n",
    "        return [0, 0, 0, 0, 1, 0, 0, 0, 0, 0]\n",
    "    elif digit == 5:\n",
    "        return [0, 0, 0, 0, 0, 1, 0, 0, 0, 0]\n",
    "    elif digit == 6:\n",
    "        return [0, 0, 0, 0, 0, 0, 1, 0, 0, 0]\n",
    "    elif digit == 7:\n",
    "        return [0, 0, 0, 0, 0, 0, 0, 1, 0, 0]\n",
    "    elif digit == 8:\n",
    "        return [0, 0, 0, 0, 0, 0, 0, 0, 1, 0]\n",
    "    elif digit == 9:\n",
    "        return [0, 0, 0, 0, 0, 0, 0, 0, 0, 1]\n",
    "    else:\n",
    "        return [0, 0, 0, 0, 0, 0, 0, 0, 0, 0]\n",
    "\n",
    "train_labels_enc = np.array(list(map(enconder, train_labels)))\n",
    "test_labels_enc = np.array(list(map(enconder, test_labels)))"
   ]
  },
  {
   "cell_type": "code",
   "execution_count": 6,
   "metadata": {},
   "outputs": [
    {
     "name": "stderr",
     "output_type": "stream",
     "text": [
      "D:\\Users\\mapp2\\anaconda3\\lib\\site-packages\\sklearn\\neural_network\\_multilayer_perceptron.py:582: ConvergenceWarning: Stochastic Optimizer: Maximum iterations (200) reached and the optimization hasn't converged yet.\n",
      "  warnings.warn(\n"
     ]
    },
    {
     "data": {
      "text/plain": [
       "MLPClassifier(hidden_layer_sizes=(20,))"
      ]
     },
     "execution_count": 6,
     "metadata": {},
     "output_type": "execute_result"
    }
   ],
   "source": [
    "# Tres capas ocultas de 20-150-20 neuronas respectivamente\n",
    "clf = MLPClassifier(hidden_layer_sizes=(20,))\n",
    "clf.fit(train_images, train_labels_enc)"
   ]
  },
  {
   "cell_type": "code",
   "execution_count": 7,
   "metadata": {},
   "outputs": [
    {
     "data": {
      "text/plain": [
       "0.8437"
      ]
     },
     "execution_count": 7,
     "metadata": {},
     "output_type": "execute_result"
    }
   ],
   "source": [
    "clf.score(test_images, test_labels_enc)"
   ]
  },
  {
   "cell_type": "markdown",
   "metadata": {},
   "source": [
    "2. Dibuja en paint un dígito a mano y guardalo como una imagen PNG.\n",
    "3. Abre la imagen en Python con Pillow. Pista https://www.geeksforgeeks.org/python-pil-image-resize-method/"
   ]
  },
  {
   "cell_type": "code",
   "execution_count": 21,
   "metadata": {},
   "outputs": [],
   "source": [
    "from PIL import Image \n",
    "from skimage.color import rgb2gray\n",
    "import numpy as np\n",
    "\n",
    "im = Image.open(r\"datasets/myNumber.png\")"
   ]
  },
  {
   "cell_type": "markdown",
   "metadata": {},
   "source": [
    "4. Escala la imagen a 28x28 pixeles."
   ]
  },
  {
   "cell_type": "code",
   "execution_count": 22,
   "metadata": {},
   "outputs": [],
   "source": [
    "im = im.resize((28, 28))"
   ]
  },
  {
   "cell_type": "markdown",
   "metadata": {},
   "source": [
    "5. Convierte la imagen a un array de numpy. Pista https://www.geeksforgeeks.org/how-to-convert-images-to-numpy-array/"
   ]
  },
  {
   "cell_type": "code",
   "execution_count": 23,
   "metadata": {},
   "outputs": [],
   "source": [
    "im = np.asarray(im)"
   ]
  },
  {
   "cell_type": "markdown",
   "metadata": {},
   "source": [
    "6. Usa rgb2gray de skimage para convertir la imagen de RGB a escala de grises. https://scikit-image.org/docs/stable/auto_examples/color_exposure/plot_rgb_to_gray.html#sphx-glr-auto-examples-color-exposure-plot-rgb-to-gray-py"
   ]
  },
  {
   "cell_type": "code",
   "execution_count": 24,
   "metadata": {},
   "outputs": [],
   "source": [
    "im = 1 - rgb2gray(im)"
   ]
  },
  {
   "cell_type": "markdown",
   "metadata": {},
   "source": [
    "7. Refigura la imagen para que sea un vector de 768 entradas."
   ]
  },
  {
   "cell_type": "code",
   "execution_count": 25,
   "metadata": {},
   "outputs": [],
   "source": [
    "im  = im.reshape((784, ))"
   ]
  },
  {
   "cell_type": "markdown",
   "metadata": {},
   "source": [
    "8. Predice que dígito responde el clasificador y comenta si funcionó o se equivocó."
   ]
  },
  {
   "cell_type": "code",
   "execution_count": 26,
   "metadata": {},
   "outputs": [
    {
     "name": "stdout",
     "output_type": "stream",
     "text": [
      "[[0 0 0 0 0 0 0 0 0 1]]\n"
     ]
    },
    {
     "data": {
      "text/plain": [
       "<matplotlib.image.AxesImage at 0x29cd1046e20>"
      ]
     },
     "execution_count": 26,
     "metadata": {},
     "output_type": "execute_result"
    },
    {
     "data": {
      "image/png": "[encoded data removed]",
      "text/plain": [
       "<Figure size 432x288 with 1 Axes>"
      ]
     },
     "metadata": {
      "needs_background": "light"
     },
     "output_type": "display_data"
    }
   ],
   "source": [
    "print(clf.predict([ im ]))\n",
    "plt.imshow(im.reshape((28, 28)))"
   ]
  },
  {
   "cell_type": "markdown",
   "metadata": {},
   "source": [
    "La predicción fue 9 cuando el número claramente es 8. Se equivocó. Posiblemente haga falta más entrenamiento."
   ]
  },
  {
   "cell_type": "code",
   "execution_count": null,
   "metadata": {},
   "outputs": [],
   "source": []
  }
 ],
 "metadata": {
  "kernelspec": {
   "display_name": "Python 3",
   "language": "python",
   "name": "python3"
  },
  "language_info": {
   "codemirror_mode": {
    "name": "ipython",
    "version": 3
   },
   "file_extension": ".py",
   "mimetype": "text/x-python",
   "name": "python",
   "nbconvert_exporter": "python",
   "pygments_lexer": "ipython3",
   "version": "3.8.3"
  }
 },
 "nbformat": 4,
 "nbformat_minor": 4
}
