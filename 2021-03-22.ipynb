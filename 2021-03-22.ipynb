{
 "cells": [
  {
   "cell_type": "markdown",
   "metadata": {},
   "source": [
    "## Machine Learning IPN - Trabajo 22 marzo 2021\n",
    "Mario Alberto Ponce Pacheco"
   ]
  },
  {
   "cell_type": "code",
   "execution_count": 10,
   "metadata": {},
   "outputs": [],
   "source": [
    "# Pre tratamiento de datos\n",
    "import numpy as np\n",
    "import pandas as pd\n",
    "\n",
    "data = pd.read_csv(\"datasets/iris.data\", header=None, names=[\"SL\", \"SW\", \"PL\", \"PW\", \"C\"])\n",
    "data = data.sample(len(data))\n",
    "\n",
    "data[\"C1\"] = data[\"C\"].map(lambda c: 1 if c == \"Iris-setosa\" else 0)\n",
    "data[\"C2\"] = data[\"C\"].map(lambda c: 1 if c == \"Iris-versicolor\" else 0)\n",
    "data[\"C3\"] = data[\"C\"].map(lambda c: 1 if c == \"Iris-virginica\" else 0)\n",
    "\n",
    "x1 = np.array(data[\"SL\"])\n",
    "x2 = np.array(data[\"SW\"])\n",
    "x3 = np.array(data[\"PL\"])\n",
    "x4 = np.array(data[\"PW\"])\n",
    "\n",
    "y1 = np.array(data[\"C1\"])\n",
    "y2 = np.array(data[\"C2\"])\n",
    "y3 = np.array(data[\"C3\"])\n",
    "\n",
    "X = np.array([\n",
    "    x1,\n",
    "    x2,\n",
    "    x3,\n",
    "    x4\n",
    "]).T\n",
    "\n",
    "Y = np.array([\n",
    "    y1,\n",
    "    y2,\n",
    "    y3\n",
    "]).T"
   ]
  },
  {
   "cell_type": "markdown",
   "metadata": {},
   "source": [
    "## Ejercicios - Árboles de Decisión\n",
    "1. Parte el conjunto de muestras X en X_train con 120 muestras y X_test con las muestras restantes.\n",
    "\n",
    "\n",
    "\n"
   ]
  },
  {
   "cell_type": "code",
   "execution_count": 31,
   "metadata": {},
   "outputs": [
    {
     "name": "stdout",
     "output_type": "stream",
     "text": [
      "Shape de X (150, 4)\n",
      "Shape de X_train (120, 4)\n",
      "Shape de X_test (30, 4)\n"
     ]
    }
   ],
   "source": [
    "from sklearn.model_selection import train_test_split\n",
    "print(\"Shape de X\", X.shape)\n",
    "X_train, X_test, Y_train, Y_test = train_test_split(X, Y, test_size=0.2, random_state=42)\n",
    "print(\"Shape de X_train\", X_train.shape)\n",
    "print(\"Shape de X_test\",X_test.shape)"
   ]
  },
  {
   "cell_type": "markdown",
   "metadata": {},
   "source": [
    "2. Parte el conjunto de clases codificadas Y en Y_train con 120 clases y Y_test con las clases restantes."
   ]
  },
  {
   "cell_type": "code",
   "execution_count": 32,
   "metadata": {},
   "outputs": [
    {
     "name": "stdout",
     "output_type": "stream",
     "text": [
      "Shape de Y_train (120, 3)\n",
      "Shape de Y_test (30, 3)\n"
     ]
    }
   ],
   "source": [
    "print(\"Shape de Y_train\", Y_train.shape)\n",
    "print(\"Shape de Y_test\", Y_test.shape)"
   ]
  },
  {
   "cell_type": "markdown",
   "metadata": {},
   "source": [
    "3. Crea un clasificador por árbol de decisión con sklearn.tree.DesicionTreeClassifier usando X_train y Y_train. Pista: usa clf.fit(X_train, Y_train)."
   ]
  },
  {
   "cell_type": "code",
   "execution_count": 34,
   "metadata": {},
   "outputs": [],
   "source": [
    "from sklearn import tree\n",
    "\n",
    "clf = tree.DecisionTreeClassifier()\n",
    "clf = clf.fit(X_train, Y_train)"
   ]
  },
  {
   "cell_type": "markdown",
   "metadata": {},
   "source": [
    "4. Muestra el score para X_test y Y_test. Pista: usa clf.score(X_test, Y_test)."
   ]
  },
  {
   "cell_type": "code",
   "execution_count": 38,
   "metadata": {},
   "outputs": [
    {
     "data": {
      "text/plain": [
       "0.9666666666666667"
      ]
     },
     "execution_count": 38,
     "metadata": {},
     "output_type": "execute_result"
    }
   ],
   "source": [
    "clf.score(X_test, Y_test)"
   ]
  },
  {
   "cell_type": "markdown",
   "metadata": {},
   "source": [
    "5. Pinta el árbol de decisión usando sklearn.tree.plot_tree(clf).\n"
   ]
  },
  {
   "cell_type": "code",
   "execution_count": 50,
   "metadata": {},
   "outputs": [
    {
     "data": {
      "text/plain": [
       "[Text(133.92000000000002, 199.32, 'X[3] <= 0.8\\ngini = 0.443\\nsamples = 120\\nvalue = [[76, 44]\\n[81, 39]\\n[83, 37]]'),\n",
       " Text(100.44000000000001, 163.07999999999998, 'gini = 0.0\\nsamples = 44\\nvalue = [[0, 44]\\n[44, 0]\\n[44, 0]]'),\n",
       " Text(167.40000000000003, 163.07999999999998, 'X[2] <= 4.85\\ngini = 0.333\\nsamples = 76\\nvalue = [[76, 0]\\n[37, 39]\\n[39, 37]]'),\n",
       " Text(66.96000000000001, 126.83999999999999, 'X[3] <= 1.65\\ngini = 0.066\\nsamples = 38\\nvalue = [[38, 0]\\n[2, 36]\\n[36, 2]]'),\n",
       " Text(33.480000000000004, 90.6, 'gini = 0.0\\nsamples = 35\\nvalue = [[35, 0]\\n[0, 35]\\n[35, 0]]'),\n",
       " Text(100.44000000000001, 90.6, 'X[1] <= 3.0\\ngini = 0.296\\nsamples = 3\\nvalue = [[3, 0]\\n[2, 1]\\n[1, 2]]'),\n",
       " Text(66.96000000000001, 54.359999999999985, 'gini = 0.0\\nsamples = 2\\nvalue = [[2, 0]\\n[2, 0]\\n[0, 2]]'),\n",
       " Text(133.92000000000002, 54.359999999999985, 'gini = 0.0\\nsamples = 1\\nvalue = [[1, 0]\\n[0, 1]\\n[1, 0]]'),\n",
       " Text(267.84000000000003, 126.83999999999999, 'X[3] <= 1.75\\ngini = 0.097\\nsamples = 38\\nvalue = [[38, 0]\\n[35, 3]\\n[3, 35]]'),\n",
       " Text(234.36, 90.6, 'X[2] <= 5.05\\ngini = 0.327\\nsamples = 7\\nvalue = [[7, 0]\\n[4, 3]\\n[3, 4]]'),\n",
       " Text(200.88000000000002, 54.359999999999985, 'X[1] <= 2.35\\ngini = 0.25\\nsamples = 4\\nvalue = [[4, 0]\\n[1, 3]\\n[3, 1]]'),\n",
       " Text(167.40000000000003, 18.119999999999976, 'gini = 0.0\\nsamples = 1\\nvalue = [[1, 0]\\n[1, 0]\\n[0, 1]]'),\n",
       " Text(234.36, 18.119999999999976, 'gini = 0.0\\nsamples = 3\\nvalue = [[3, 0]\\n[0, 3]\\n[3, 0]]'),\n",
       " Text(267.84000000000003, 54.359999999999985, 'gini = 0.0\\nsamples = 3\\nvalue = [[3, 0]\\n[3, 0]\\n[0, 3]]'),\n",
       " Text(301.32000000000005, 90.6, 'gini = 0.0\\nsamples = 31\\nvalue = [[31, 0]\\n[31, 0]\\n[0, 31]]')]"
      ]
     },
     "execution_count": 50,
     "metadata": {},
     "output_type": "execute_result"
    },
    {
     "data": {
      "image/png": "[encoded data removed]",
      "text/plain": [
       "<Figure size 432x288 with 1 Axes>"
      ]
     },
     "metadata": {
      "needs_background": "light"
     },
     "output_type": "display_data"
    }
   ],
   "source": [
    "from sklearn.tree import plot_tree\n",
    "plot_tree(clf)"
   ]
  },
  {
   "cell_type": "markdown",
   "metadata": {},
   "source": [
    "6. Predice cuál es la clase de las siguientes muestras:"
   ]
  },
  {
   "cell_type": "code",
   "execution_count": 52,
   "metadata": {},
   "outputs": [
    {
     "data": {
      "text/plain": [
       "array([[0, 1, 0],\n",
       "       [0, 1, 0],\n",
       "       [1, 0, 0],\n",
       "       [1, 0, 0]], dtype=int64)"
      ]
     },
     "execution_count": 52,
     "metadata": {},
     "output_type": "execute_result"
    }
   ],
   "source": [
    "muestras =[\n",
    "    [6.7, 3. , 5. , 1.7],\n",
    "    [5.5, 2.6, 4.4, 1.2],\n",
    "    [4.5, 2.3, 1.3, 0.3],\n",
    "    [4.6, 3.1, 1.5, 0.2],\n",
    "]\n",
    "clf.predict(muestras)"
   ]
  },
  {
   "cell_type": "markdown",
   "metadata": {},
   "source": [
    "* Las muestras 1 y 2 corresponden a C2 = Iris-versicolor\n",
    "* Las muestras 3 y 4 corresponden a C1 = Iris-setosa"
   ]
  },
  {
   "cell_type": "code",
   "execution_count": null,
   "metadata": {},
   "outputs": [],
   "source": []
  }
 ],
 "metadata": {
  "kernelspec": {
   "display_name": "Python 3",
   "language": "python",
   "name": "python3"
  },
  "language_info": {
   "codemirror_mode": {
    "name": "ipython",
    "version": 3
   },
   "file_extension": ".py",
   "mimetype": "text/x-python",
   "name": "python",
   "nbconvert_exporter": "python",
   "pygments_lexer": "ipython3",
   "version": "3.8.3"
  }
 },
 "nbformat": 4,
 "nbformat_minor": 4
}
